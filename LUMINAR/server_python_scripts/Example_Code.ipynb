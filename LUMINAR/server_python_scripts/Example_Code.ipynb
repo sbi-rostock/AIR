{
 "cells": [
  {
   "cell_type": "markdown",
   "id": "b0771478-b37c-4691-aee1-f9c4d268bf74",
   "metadata": {
    "tags": []
   },
   "source": [
    "# Environment Setup\n",
    "\n",
    "This notebook is designed for Python version **3.11.5** and requires several external packages to run correctly. Below is a list of necessary packages:\n",
    "\n",
    "- **IPython**: For powerful interactive shells.\n",
    "- **Pillow** (PIL): For image processing capabilities.\n",
    "- **ipywidgets**: For interactive HTML widgets.\n",
    "- **joblib**: For lightweight pipelining.\n",
    "- **matplotlib**: For creating visualizations.\n",
    "- **networkx**: For creating and manipulating complex networks.\n",
    "- **numba**: For JIT compilation.\n",
    "- **numpy**: For support with large, multi-dimensional arrays and matrices.\n",
    "- **pandas**: For data manipulation and analysis.\n",
    "- **requests**: For sending HTTP requests.\n",
    "- **scipy**: For scientific and technical computing.\n",
    "- **seaborn**: For drawing attractive statistical graphics.\n",
    "- **scikit-learn** (sklearn): For machine learning.\n",
    "- **statsmodels**: For statistical modeling.\n",
    "- **d3blocks**: For creating chord diagrams.\n",
    "\n",
    "To install these packages, run the following command in a code cell:\n",
    "\n",
    "```python\n",
    "!pip install IPython Pillow ipywidgets joblib matplotlib networkx numba numpy pandas requests scipy seaborn scikit-learn statsmodels d3blocks\n",
    "```\n",
    "\n",
    "Ensure that all packages are installed before proceeding to run the analyses in this notebook."
   ]
  },
  {
   "cell_type": "code",
   "execution_count": 9,
   "id": "99cfaf63-2c57-4641-8ad0-21ba91927a40",
   "metadata": {
    "tags": []
   },
   "outputs": [
    {
     "name": "stdout",
     "output_type": "stream",
     "text": [
      "Failed to import from app.network_data.: No module named 'app'\n",
      "Failed to import from network_data.: No module named 'network_data'\n",
      "Failed to import from .: attempted relative import with no known parent package\n",
      "Failed to import from app.network_data.: No module named 'app'\n",
      "Failed to import from network_data.: No module named 'network_data'\n",
      "Failed to import from .: attempted relative import with no known parent package\n",
      "Failed to import from app.network_data.: No module named 'app'\n",
      "Failed to import from network_data.: No module named 'network_data'\n",
      "Failed to import from .: attempted relative import with no known parent package\n",
      "Failed to import from app.network_data.: No module named 'app'\n",
      "Failed to import from network_data.: No module named 'network_data'\n",
      "Failed to import from .: attempted relative import with no known parent package\n"
     ]
    }
   ],
   "source": [
    "from read_sbml import create_model\n",
    "from DataMapper import *"
   ]
  },
  {
   "cell_type": "markdown",
   "id": "0f8a045f-e49c-4ea8-a4e3-f2f965ba8ab5",
   "metadata": {
    "tags": []
   },
   "source": [
    "## Loading the Submaps"
   ]
  },
  {
   "cell_type": "code",
   "execution_count": 13,
   "id": "6f784891-1814-4f16-9d8a-5bbf5d6c46cf",
   "metadata": {
    "tags": []
   },
   "outputs": [],
   "source": [
    "model = create_model(\"Example Map\", compartment_specific = True)"
   ]
  },
  {
   "cell_type": "markdown",
   "id": "01cdc95b-3cee-4686-9848-1e286ae6ad44",
   "metadata": {},
   "source": [
    "## Loading the Data"
   ]
  },
  {
   "cell_type": "code",
   "execution_count": 17,
   "id": "52f5e230-d4c8-487b-9b1f-ea48e5318107",
   "metadata": {},
   "outputs": [],
   "source": [
    "with open(\"Datafiles/GSE130970_nas_vs_control.tsv\") as file:\n",
    "    data = DataMapper(file.read(), model, has_pvalues = True)"
   ]
  },
  {
   "cell_type": "markdown",
   "id": "d3bb36a5-be25-48bf-909f-bfb08c0132c8",
   "metadata": {},
   "source": [
    "## Data Analysis"
   ]
  },
  {
   "cell_type": "code",
   "execution_count": 25,
   "id": "412e02bf-df5f-4974-a451-6df9fadfdd17",
   "metadata": {},
   "outputs": [],
   "source": [
    "twodea = TwoDEA(data)\n",
    "twodea.fit(downstream = True)"
   ]
  },
  {
   "cell_type": "markdown",
   "id": "dbbda83a-80a6-4791-8b2f-757562d3056e",
   "metadata": {},
   "source": [
    "# Visualization"
   ]
  },
  {
   "cell_type": "code",
   "execution_count": null,
   "id": "e59d8b69-153f-4a96-826a-c632be2d4548",
   "metadata": {},
   "outputs": [],
   "source": [
    "twodea.circle_plot(normalize=False,adjust_samples=lambda x: x.replace(\"_vs_control\",\"\").replace(\"_\", \" Score \"), use_entity=True, full_names=True)"
   ]
  }
 ],
 "metadata": {
  "kernelspec": {
   "display_name": "Python 3 (ipykernel)",
   "language": "python",
   "name": "python3"
  },
  "language_info": {
   "codemirror_mode": {
    "name": "ipython",
    "version": 3
   },
   "file_extension": ".py",
   "mimetype": "text/x-python",
   "name": "python",
   "nbconvert_exporter": "python",
   "pygments_lexer": "ipython3",
   "version": "3.12.4"
  }
 },
 "nbformat": 4,
 "nbformat_minor": 5
}
